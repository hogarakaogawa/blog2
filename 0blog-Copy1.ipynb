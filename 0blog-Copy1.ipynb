{
 "cells": [
  {
   "cell_type": "code",
   "execution_count": 1,
   "metadata": {
    "collapsed": true
   },
   "outputs": [],
   "source": [
    "import requests\n",
    "from bs4 import BeautifulSoup"
   ]
  },
  {
   "cell_type": "markdown",
   "metadata": {},
   "source": [
    "## 出来高上位"
   ]
  },
  {
   "cell_type": "code",
   "execution_count": 2,
   "metadata": {},
   "outputs": [
    {
     "name": "stdout",
     "output_type": "stream",
     "text": [
      "Currency: neo /Price: $49.55 / Rank:  Rank 5/ M-cap: 2477mil$ \n",
      "CoinMarketCap: https://coinmarketcap.com/currencies/neo/\n",
      "WebSite: https://neo.org/\n",
      "Currency: ethereum /Price: $297.48 / Rank:  Rank 2/ M-cap: 27956mil$ \n",
      "CoinMarketCap: https://coinmarketcap.com/currencies/ethereum/\n",
      "WebSite: https://www.ethereum.org/\n",
      "Currency: omisego /Price: $7.08 / Rank:  Rank 13/ M-cap: 696mil$ \n",
      "CoinMarketCap: https://coinmarketcap.com/currencies/omisego/\n",
      "WebSite: https://omg.omise.co/\n",
      "Currency: tenx /Price: $5.03 / Rank:  Rank 16/ M-cap: 526mil$ \n",
      "CoinMarketCap: https://coinmarketcap.com/currencies/tenx/\n",
      "WebSite: https://www.tenx.tech/\n",
      "Currency: storj /Price: $1.58 / Rank:  Rank 51/ M-cap: 114mil$ \n",
      "CoinMarketCap: https://coinmarketcap.com/currencies/storj/\n",
      "WebSite: https://storj.io/\n"
     ]
    }
   ],
   "source": [
    "url = 'https://coinmarketcap.com/currencies/'\n",
    "cryptolist = ['neo','ethereum','omisego', 'tenx',  'storj']\n",
    "for i in cryptolist:\n",
    "    cryptourl = url + '{}/'.format(i)\n",
    "    res = requests.get(cryptourl)\n",
    "    soup = BeautifulSoup(res.content, 'lxml')\n",
    "    price = soup.find('span', id = 'quote_price').string\n",
    "    rank = soup.find('span', class_='label label-success').string\n",
    "    m_cap = soup.find('div', class_='coin-summary-item-detail').text\n",
    "    m_cap1 = m_cap.replace(' ','').split('\\n')[1]\n",
    "    m_cap2 = int(m_cap1.replace('$', '').replace(',',''))\n",
    "    m_cap3 = int(m_cap2 / 1000000)\n",
    "    link1 = soup.find('ul', class_='list-unstyled')\n",
    "    link2 = link1.a['href']\n",
    "    print('Currency: {} /Price: {} / Rank: {}/ M-cap: {}mil$ '.format(i, price, rank, m_cap3))\n",
    "    print('CoinMarketCap: {}'.format(cryptourl))\n",
    "    print('WebSite: {}'.format(link2))"
   ]
  },
  {
   "cell_type": "markdown",
   "metadata": {},
   "source": [
    "## 上昇率上位"
   ]
  },
  {
   "cell_type": "code",
   "execution_count": 3,
   "metadata": {},
   "outputs": [
    {
     "name": "stdout",
     "output_type": "stream",
     "text": [
      "Currency: qwark /Price: $0.341481 / Rank:  Rank 187/ M-cap: 9mil$ \n",
      "CoinMarketCap: https://coinmarketcap.com/currencies/qwark/\n",
      "WebSite: http://www.qwark.io/\n",
      "Currency: rise /Price: $0.169619 / Rank:  Rank 133/ M-cap: 18mil$ \n",
      "CoinMarketCap: https://coinmarketcap.com/currencies/rise/\n",
      "WebSite: https://rise.vision/\n",
      "Currency: neo /Price: $49.29 / Rank:  Rank 5/ M-cap: 2464mil$ \n",
      "CoinMarketCap: https://coinmarketcap.com/currencies/neo/\n",
      "WebSite: https://neo.org/\n",
      "Currency: rubycoin /Price: $0.621858 / Rank:  Rank 150/ M-cap: 15mil$ \n",
      "CoinMarketCap: https://coinmarketcap.com/currencies/rubycoin/\n",
      "WebSite: http://www.rubycoin.org/\n",
      "Currency: salus /Price: $15.24 / Rank:  Rank 151/ M-cap: 15mil$ \n",
      "CoinMarketCap: https://coinmarketcap.com/currencies/salus/\n",
      "WebSite: http://saluscoin.info/\n"
     ]
    }
   ],
   "source": [
    "url = 'https://coinmarketcap.com/currencies/'\n",
    "cryptolist = ['qwark', 'rise', 'neo', 'rubycoin','salus']\n",
    "for i in cryptolist:\n",
    "    cryptourl = url + '{}/'.format(i)\n",
    "    res = requests.get(cryptourl)\n",
    "    soup = BeautifulSoup(res.content, 'lxml')\n",
    "    price = soup.find('span', id = 'quote_price').string\n",
    "    rank = soup.find('span', class_='label label-success').string\n",
    "    m_cap = soup.find('div', class_='coin-summary-item-detail').text\n",
    "    m_cap1 = m_cap.replace(' ','').split('\\n')[1]\n",
    "    m_cap2 = int(m_cap1.replace('$', '').replace(',',''))\n",
    "    m_cap3 = int(m_cap2 / 1000000)\n",
    "    link1 = soup.find('ul', class_='list-unstyled')\n",
    "    link2 = link1.a['href']\n",
    "    print('Currency: {} /Price: {} / Rank: {}/ M-cap: {}mil$ '.format(i, price, rank, m_cap3))\n",
    "    print('CoinMarketCap: {}'.format(cryptourl))\n",
    "    print('WebSite: {}'.format(link2))"
   ]
  },
  {
   "cell_type": "markdown",
   "metadata": {},
   "source": [
    "## 下落率上位"
   ]
  },
  {
   "cell_type": "code",
   "execution_count": 4,
   "metadata": {},
   "outputs": [
    {
     "name": "stdout",
     "output_type": "stream",
     "text": [
      "Currency: cofound-it /Price: $0.171505 / Rank:  Rank 122/ M-cap: 21mil$ \n",
      "CoinMarketCap: https://coinmarketcap.com/currencies/cofound-it/\n",
      "WebSite: https://cofound.it/\n",
      "Currency: einsteinium /Price: $0.041379 / Rank:  Rank 194/ M-cap: 8mil$ \n",
      "CoinMarketCap: https://coinmarketcap.com/currencies/einsteinium/\n",
      "WebSite: https://www.emc2.foundation/\n",
      "Currency: creditbit /Price: $0.518571 / Rank:  Rank 218/ M-cap: 6mil$ \n",
      "CoinMarketCap: https://coinmarketcap.com/currencies/creditbit/\n",
      "WebSite: https://www.creditbit.org/\n",
      "Currency: tokencard /Price: $1.36 / Rank:  Rank 95/ M-cap: 32mil$ \n",
      "CoinMarketCap: https://coinmarketcap.com/currencies/tokencard/\n",
      "WebSite: http://tokencard.io/\n",
      "Currency: bitcoindark /Price: $59.84 / Rank:  Rank 62/ M-cap: 77mil$ \n",
      "CoinMarketCap: https://coinmarketcap.com/currencies/bitcoindark/\n",
      "WebSite: http://bitcoindark.com/\n"
     ]
    }
   ],
   "source": [
    "url = 'https://coinmarketcap.com/currencies/'\n",
    "cryptolist = ['cofound-it', 'einsteinium', 'creditbit','tokencard','bitcoindark']\n",
    "for i in cryptolist:\n",
    "    cryptourl = url + '{}/'.format(i)\n",
    "    res = requests.get(cryptourl)\n",
    "    soup = BeautifulSoup(res.content, 'lxml')\n",
    "    price = soup.find('span', id = 'quote_price').string\n",
    "    rank = soup.find('span', class_='label label-success').string\n",
    "    m_cap = soup.find('div', class_='coin-summary-item-detail').text\n",
    "    m_cap1 = m_cap.replace(' ','').split('\\n')[1]\n",
    "    m_cap2 = int(m_cap1.replace('$', '').replace(',',''))\n",
    "    m_cap3 = int(m_cap2 / 1000000)\n",
    "    link1 = soup.find('ul', class_='list-unstyled')\n",
    "    link2 = link1.a['href']\n",
    "    print('Currency: {} /Price: {} / Rank: {}/ M-cap: {}mil$ '.format(i, price, rank, m_cap3))\n",
    "    print('CoinMarketCap: {}'.format(cryptourl))\n",
    "    print('WebSite: {}'.format(link2))"
   ]
  },
  {
   "cell_type": "code",
   "execution_count": null,
   "metadata": {
    "collapsed": true
   },
   "outputs": [],
   "source": []
  }
 ],
 "metadata": {
  "kernelspec": {
   "display_name": "Python 3",
   "language": "python",
   "name": "python3"
  },
  "language_info": {
   "codemirror_mode": {
    "name": "ipython",
    "version": 3
   },
   "file_extension": ".py",
   "mimetype": "text/x-python",
   "name": "python",
   "nbconvert_exporter": "python",
   "pygments_lexer": "ipython3",
   "version": "3.6.1"
  }
 },
 "nbformat": 4,
 "nbformat_minor": 2
}
